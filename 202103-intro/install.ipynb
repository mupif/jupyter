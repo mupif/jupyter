{
 "cells": [
  {
   "cell_type": "markdown",
   "metadata": {
    "collapsed": true,
    "pycharm": {
     "name": "#%% md\n"
    }
   },
   "source": [
    "# Installation of MuPIF\n",
    "\n",
    "### Requirements\n",
    "\n",
    "- Python (>=3.8)\n",
    "- pip - package installer for Python\n",
    "- git - version control system\n"
   ]
  },
  {
   "cell_type": "markdown",
   "source": [
    "\n",
    "## Installation on Ubuntu\n",
    "\n",
    "##### Install Python, pip and git:\n",
    "\n",
    "$ `sudo apt-get install python3.8 python3-pip git`\n",
    "\n",
    "##### Install mupif with all dependencies using pip:\n",
    "\n",
    "$ `pip3 install git+https://github.com/mupif/mupif.git@dev`\n",
    "\n",
    "##### Optionally get full project with examples using git:\n",
    "\n",
    "$ `git clone --branch dev https://github.com/mupif/mupif.git`\n"
   ],
   "metadata": {
    "collapsed": false
   }
  },
  {
   "cell_type": "markdown",
   "source": [
    "\n",
    "## Installation on Windows 10\n",
    "\n",
    "##### Download and install Python from https://www.python.org/ftp/python/3.9.2/python-3.9.2-amd64.exe\n",
    "\n",
    "##### Download https://bootstrap.pypa.io/get-pip.py and run it with:\n",
    "\n",
    "$ `python get-pip.py`\n",
    "\n",
    "##### Add directory of pip3.exe to the \"Path\" system variable. The directory should be something like \"C:\\Users\\Username\\AppData\\Roaming\\Python\\Python39\\Scripts\". Editing of the Path variable is described here:\n"
   ],
   "metadata": {
    "collapsed": false
   }
  },
  {
   "cell_type": "raw",
   "source": [
    "1) In Search, search for and then select: System (Control Panel)\n",
    "2) Click the Advanced system settings link.\n",
    "3) Click Environment Variables. In the section System Variables find the PATH environment variable and select it. Click Edit. If the PATH environment variable does not exist, click New.\n",
    "4) In the Edit System Variable (or New System Variable) window, specify the value of the PATH environment variable. Click OK. Close all remaining windows by clicking OK.\n",
    "5) Open new terminal."
   ],
   "metadata": {
    "collapsed": false
   }
  },
  {
   "cell_type": "markdown",
   "source": [
    "\n",
    "##### Download and install git from https://gitforwindows.org/\n",
    "\n",
    "##### Install mupif with all dependencies using pip:\n",
    "\n",
    "$ `pip3 install git+https://github.com/mupif/mupif.git@dev`\n",
    "\n",
    "##### Optionally get full project with examples using git:\n",
    "\n",
    "$ `git clone --branch dev https://github.com/mupif/mupif.git`"
   ],
   "metadata": {
    "collapsed": false
   }
  }
 ],
 "metadata": {
  "language_info": {
   "codemirror_mode": {
    "name": "ipython",
    "version": 2
   },
   "file_extension": ".py",
   "mimetype": "text/x-python",
   "name": "python",
   "nbconvert_exporter": "python",
   "pygments_lexer": "ipython2",
   "version": "2.7.6"
  },
  "kernelspec": {
   "name": "python3",
   "language": "python",
   "display_name": "Python 3"
  },
  "pycharm": {
   "stem_cell": {
    "cell_type": "raw",
    "source": [],
    "metadata": {
     "collapsed": false
    }
   }
  }
 },
 "nbformat": 4,
 "nbformat_minor": 0
}