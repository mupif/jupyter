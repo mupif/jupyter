{
 "cells": [
  {
   "cell_type": "markdown",
   "id": "north-version",
   "metadata": {},
   "source": [
    "# Interactive stationary thermo-mechanical workflow \n",
    "- Ilustrates how to use model APIs\n",
    "- Ilustrates the use of data components (Properties and Fields)\n",
    "- Shows hoe to combine these into workflow\n",
    "\n",
    "## Problem descrition\n",
    " <img src=\"img/thermomechanicalModa.png\" alt=\"Problem MODA\" style=\"width: 600px;\"/>"
   ]
  },
  {
   "cell_type": "code",
   "execution_count": 13,
   "id": "identified-grocery",
   "metadata": {},
   "outputs": [],
   "source": [
    "# local machine only\n",
    "import sys\n",
    "sys.path.append('/home/bp/devel/mupif.git')\n",
    "\n",
    "import matplotlib\n",
    "# make figures larger\n",
    "# matplotlib.rcParams['figure.figsize']=(20,20)\n",
    "\n",
    "# this is ugly\n",
    "# examples are not part of the mupif module now, thus are copied locally, should be re-considered\n",
    "sys.path.append('.')\n",
    "import models"
   ]
  },
  {
   "cell_type": "code",
   "execution_count": 2,
   "id": "portuguese-flexibility",
   "metadata": {},
   "outputs": [],
   "source": [
    "import mupif as mp"
   ]
  },
  {
   "cell_type": "code",
   "execution_count": 3,
   "id": "absent-welsh",
   "metadata": {},
   "outputs": [
    {
     "data": {
      "text/plain": [
       "'Stationary thermal-demo-solver, ver 1.0'"
      ]
     },
     "execution_count": 3,
     "metadata": {},
     "output_type": "execute_result"
    }
   ],
   "source": [
    "thermalSolver = models.ThermalModel()\n",
    "thermalSolver.getApplicationSignature()"
   ]
  },
  {
   "cell_type": "code",
   "execution_count": 4,
   "id": "increased-intervention",
   "metadata": {},
   "outputs": [
    {
     "data": {
      "text/plain": [
       "'Mechanical-demo-solver, ver 1.0'"
      ]
     },
     "execution_count": 4,
     "metadata": {},
     "output_type": "execute_result"
    }
   ],
   "source": [
    "mechanicalSolver = models.MechanicalModel()\n",
    "mechanicalSolver.getApplicationSignature()"
   ]
  },
  {
   "cell_type": "code",
   "execution_count": 5,
   "id": "together-mount",
   "metadata": {},
   "outputs": [],
   "source": [
    "thermalSolver.initialize('inputT.in')\n",
    "mechanicalSolver.initialize('inputM.in')"
   ]
  },
  {
   "cell_type": "code",
   "execution_count": 6,
   "id": "minute-spanking",
   "metadata": {},
   "outputs": [
    {
     "name": "stdout",
     "output_type": "stream",
     "text": [
      "# Model edges\n",
      "#     ----------3----------\n",
      "#     |                   |\n",
      "#     4                   2\n",
      "#     |                   | \n",
      "#     ----------1---------\n",
      "#\n",
      "5 1 #Size x and y\n",
      "10 5 #Number of elements in x and y\n",
      "1 N 0. #Domain edge number 1 with boundary condition (D-Dirichlet, C-convection, other-None), prescribed temperature/ambient temperature\n",
      "2 N 0.\n",
      "3 N 0.\n",
      "4 N 0.\n",
      "\n",
      "\n"
     ]
    }
   ],
   "source": [
    "# show the input file\n",
    "print(open('inputT.in').read())"
   ]
  },
  {
   "cell_type": "code",
   "execution_count": 7,
   "id": "rapid-amazon",
   "metadata": {},
   "outputs": [
    {
     "data": {
      "text/plain": [
       "[{'Name': 'edge temperature',\n",
       "  'Type': 'mupif.Property',\n",
       "  'Required': False,\n",
       "  'Type_ID': 'mupif.PropertyID.PID_Temperature',\n",
       "  'Obj_ID': ['Cauchy top',\n",
       "   'Cauchy bottom',\n",
       "   'Cauchy left',\n",
       "   'Cauchy right',\n",
       "   'Dirichlet top',\n",
       "   'Dirichlet bottom',\n",
       "   'Dirichlet left',\n",
       "   'Dirichlet right']}]"
      ]
     },
     "execution_count": 7,
     "metadata": {},
     "output_type": "execute_result"
    }
   ],
   "source": [
    "thermalSolver.getMetadata('Inputs')"
   ]
  },
  {
   "cell_type": "code",
   "execution_count": 8,
   "id": "appropriate-latin",
   "metadata": {},
   "outputs": [],
   "source": [
    "thermalSolver.initialize('inputT.in')\n",
    "bc1 = mp.ConstantProperty(propID=mp.PropertyID.PID_Temperature, valueType=mp.ValueType.Scalar, value=(50,), unit=mp.U['K'])\n",
    "bc2 = mp.ConstantProperty(propID=mp.PropertyID.PID_Temperature, valueType=mp.ValueType.Scalar, value=(0,), unit=mp.U['K'])\n",
    "thermalSolver.set(bc1, 'Cauchy top')\n",
    "thermalSolver.set(bc2, 'Dirichlet left')\n",
    "thermalSolver.set(bc2, 'Cauchy bottom')"
   ]
  },
  {
   "cell_type": "code",
   "execution_count": 9,
   "id": "passive-genesis",
   "metadata": {},
   "outputs": [
    {
     "data": {
      "text/plain": [
       "[(3, 'C', 50.0, 1.0), (4, 'D', 0.0, None), (1, 'C', 0.0, 1.0)]"
      ]
     },
     "execution_count": 9,
     "metadata": {},
     "output_type": "execute_result"
    }
   ],
   "source": [
    "thermalSolver.bcOnModelEdges"
   ]
  },
  {
   "cell_type": "code",
   "execution_count": 10,
   "id": "unsigned-funeral",
   "metadata": {},
   "outputs": [
    {
     "name": "stdout",
     "output_type": "stream",
     "text": [
      "0.0 5.0 0.0 1.0\n"
     ]
    },
    {
     "data": {
      "image/png": "[encoded data removed]",
      "text/plain": [
       "<Figure size 432x288 with 2 Axes>"
      ]
     },
     "metadata": {
      "needs_background": "light"
     },
     "output_type": "display_data"
    }
   ],
   "source": [
    "# solve something (whatever)\n",
    "thermalSolver.solveStep(mp.TimeStep(time=0,dt=.1,targetTime=1.,unit=mp.U.s))\n",
    "# show the field\n",
    "f=thermalSolver.getField(fieldID=mp.FieldID.FID_Temperature,time=1.*mp.Q.s)\n",
    "f.plot2D()"
   ]
  },
  {
   "cell_type": "code",
   "execution_count": 11,
   "id": "coastal-civilian",
   "metadata": {},
   "outputs": [],
   "source": [
    "mechanicalSolver.set(f)\n",
    "mechanicalSolver.solveStep(mp.TimeStep(time=0,dt=.1,targetTime=1.,unit=mp.U.s))"
   ]
  },
  {
   "cell_type": "code",
   "execution_count": 12,
   "id": "creative-score",
   "metadata": {},
   "outputs": [
    {
     "name": "stdout",
     "output_type": "stream",
     "text": [
      "0.0 5.328743957251387 -0.5501256079315806 1.0138262740887825\n"
     ]
    },
    {
     "data": {
      "image/png": "[encoded data removed]",
      "text/plain": [
       "<Figure size 432x288 with 2 Axes>"
      ]
     },
     "metadata": {
      "needs_background": "light"
     },
     "output_type": "display_data"
    }
   ],
   "source": [
    "f=mechanicalSolver.getField(fieldID=mp.FieldID.FID_Displacement,time=1.*mp.Q.s)\n",
    "f.plot2D(warpField=f, warpScale=6.e2)"
   ]
  },
  {
   "cell_type": "code",
   "execution_count": null,
   "id": "breathing-pipeline",
   "metadata": {},
   "outputs": [],
   "source": [
    "\n"
   ]
  },
  {
   "cell_type": "code",
   "execution_count": null,
   "id": "finite-sister",
   "metadata": {},
   "outputs": [],
   "source": []
  }
 ],
 "metadata": {
  "kernelspec": {
   "display_name": "Python 3",
   "language": "python",
   "name": "python3"
  },
  "language_info": {
   "codemirror_mode": {
    "name": "ipython",
    "version": 3
   },
   "file_extension": ".py",
   "mimetype": "text/x-python",
   "name": "python",
   "nbconvert_exporter": "python",
   "pygments_lexer": "ipython3",
   "version": "3.8.5"
  }
 },
 "nbformat": 4,
 "nbformat_minor": 5
}
