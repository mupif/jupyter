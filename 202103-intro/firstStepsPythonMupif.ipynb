{
 "metadata": {
  "language_info": {
   "codemirror_mode": {
    "name": "ipython",
    "version": 3
   },
   "file_extension": ".py",
   "mimetype": "text/x-python",
   "name": "python",
   "nbconvert_exporter": "python",
   "pygments_lexer": "ipython3",
   "version": "3.8.5-final"
  },
  "orig_nbformat": 2,
  "kernelspec": {
   "name": "python3",
   "display_name": "Python 3.8.5 64-bit",
   "metadata": {
    "interpreter": {
     "hash": "31f2aee4e71d21fbe5cf8b01ff0e069b9275f58929596ceb00d14d90e3e16cd6"
    }
   }
  }
 },
 "nbformat": 4,
 "nbformat_minor": 2,
 "cells": [
  {
   "source": [
    "# Short introduction to Python\n",
    "- Python is Interpreted − Python is processed at runtime by the interpreter. You do not need to compile your program before executing it. This is similar to PERL and PHP.\n",
    "\n",
    "- Python is Interactive − You can actually sit at a Python prompt and interact with the interpreter directly to write your programs.\n",
    "\n",
    "- Python is Object-Oriented − Python supports Object-Oriented style or technique of programming that encapsulates code within objects.\n",
    "\n",
    "## Running Python\n",
    "There are two different ways to start Python\n",
    " - Interactive session\n",
    " - Run existing script by the interpretter "
   ],
   "cell_type": "markdown",
   "metadata": {}
  },
  {
   "source": [
    "### Python - Basic Syntax\n",
    "\n",
    "Hello Python example "
   ],
   "cell_type": "markdown",
   "metadata": {}
  },
  {
   "cell_type": "code",
   "execution_count": 5,
   "metadata": {},
   "outputs": [
    {
     "output_type": "stream",
     "name": "stdout",
     "text": [
      "Hello, Python!\n"
     ]
    }
   ],
   "source": [
    "print (\"Hello, Python!\")\n"
   ]
  },
  {
   "source": [
    "- Python has no mandatory statement termination characters and blocks are specified by indentation. \n",
    "- Indent to begin a block, dedent to end one. Statements that expect an indentation level end in a colon (:). \n",
    "- Comments start with the pound (#) sign and are single-line, multi-line strings are used for multi-line comments. \n",
    "- Values are assigned (in fact, objects are bound to names) with the equals sign (“=”), and equality testing is done using two equals signs (“==”). "
   ],
   "cell_type": "markdown",
   "metadata": {}
  },
  {
   "source": [
    "## Data types\n",
    "- The data structures available in python are lists, tuples and dictionaries. Sets are available in the sets library. \n",
    "- Lists are like one-dimensional arrays (but you can also have lists of other lists), dictionaries are associative arrays (a.k.a. hash tables) and tuples are immutable one-dimensional arrays (Python “arrays” can be of any type, so you can mix e.g. integers, strings, etc in lists/dictionaries/tuples). \n",
    "- The index of the first item in all array types is 0. Negative numbers count from the end towards the beginning, -1 is the last item. \n",
    "\n",
    "The usage is as follows:\n",
    "\n"
   ],
   "cell_type": "markdown",
   "metadata": {}
  },
  {
   "cell_type": "code",
   "execution_count": 7,
   "metadata": {},
   "outputs": [],
   "source": [
    "iarray = [0,0,1,0]\n",
    "farray = [1.0, 2.0, 3.0]\n",
    "farray[0] = 3.14\n",
    "# example of lists\n",
    "mylist = [\"List item 1\", 2, 3.14]\n",
    "mylist[0] = \"List item 1 again\" # We're changing the item.\n",
    "mylist[-1] = 3.21 # Here, we refer to the last item.\n",
    "# dictionaries\n",
    "mydict = {\"Key 1\": \"Value 1\", 2: 3, \"pi\": 3.14}\n",
    "mydict[\"pi\"] = 3.14159265 # This is how you change dictionary values."
   ]
  },
  {
   "source": [
    "## Flow control statements\n",
    "- Flow control statements are if, for, and while. \n",
    "- There is no switch; instead, use if. \n",
    "- Use for to enumerate through members of a list. To obtain a sequence of numbers you can iterate over, use range(<number>). \n",
    "\n",
    "Example of the syntax:"
   ],
   "cell_type": "markdown",
   "metadata": {}
  },
  {
   "cell_type": "code",
   "execution_count": 8,
   "metadata": {},
   "outputs": [
    {
     "output_type": "stream",
     "name": "stdout",
     "text": [
      "3.14\n2.0\n3.0\n3.14\n2.0\n3.0\na is larger or equal to 5\n"
     ]
    }
   ],
   "source": [
    "# enumerate over members of list (array)\n",
    "for number in farray:\n",
    "    print (number)\n",
    "# use indices instead\n",
    "for i in range(len(farray)):\n",
    "    print (farray[i])\n",
    " \n",
    "a = 10\n",
    "if (a>5):\n",
    "    print (\"a is larger or equal to 5\")\n",
    "elif (a==5):\n",
    "    print (\"a is 5\")\n",
    "else:\n",
    "    print (\"a is smaller than 5\")"
   ]
  },
  {
   "source": [
    "## Importing external modules\n",
    "External libraries are used with the import [libname] keyword. You can also use from [libname] import [funcname] for individual functions. \n",
    "\n",
    "Here is an example:\n"
   ],
   "cell_type": "markdown",
   "metadata": {}
  },
  {
   "cell_type": "code",
   "execution_count": 12,
   "metadata": {},
   "outputs": [
    {
     "output_type": "stream",
     "name": "stdout",
     "text": [
      "65\n"
     ]
    }
   ],
   "source": [
    "\n",
    "import random\n",
    "\n",
    "randomint = random.randint(1, 100)\n",
    "print(randomint)"
   ]
  },
  {
   "source": [
    "## Functions\n",
    "- Functions are declared with the def keyword. \n",
    "- Optional arguments are set in the function declaration after the mandatory arguments by being assigned a default value. For named arguments, the name of the argument is assigned a value. \n",
    "- Parameters are passed by reference, but immutable types (tuples, ints, strings, etc) cannot be changed in the caller by the callee. This is because only the memory location of the item is passed, and binding another object to a variable discards the old one, so immutable types are replaced. \n",
    "\n",
    "For example:"
   ],
   "cell_type": "markdown",
   "metadata": {}
  },
  {
   "cell_type": "code",
   "execution_count": 10,
   "metadata": {},
   "outputs": [
    {
     "output_type": "stream",
     "name": "stdout",
     "text": [
      "5.385164807134504\n"
     ]
    }
   ],
   "source": [
    "import math\n",
    "# compute norm of a vector\n",
    "def vecnorm (vec):\n",
    "    norm = 0.\n",
    "    for val in vec:\n",
    "        norm += val*val\n",
    "    return math.sqrt(norm)\n",
    "print (vecnorm((2., 3., 4.)))"
   ]
  },
  {
   "source": [
    "## Classes\n",
    "- Classes are encapsulation of data and methods\n",
    "- Python supports a limited form of multiple inheritance in classes. \n",
    "\n",
    "An example follows:"
   ],
   "cell_type": "markdown",
   "metadata": {}
  },
  {
   "cell_type": "code",
   "execution_count": 11,
   "metadata": {},
   "outputs": [
    {
     "output_type": "stream",
     "name": "stdout",
     "text": [
      "8\n"
     ]
    }
   ],
   "source": [
    "# Define class first \n",
    "class Rectangle(object):     \n",
    "    # constructor called when class instance is created\n",
    "    def __init__(self, width, height):\n",
    "        self.width = width\n",
    "        self.height = height\n",
    "    def getArea(self):\n",
    "        return self.width * self.height\n",
    "\n",
    "# This is the class instantiation\n",
    "myRectangle = Rectangle(2,4)\n",
    "# invoke a method on instance\n",
    "print(myRectangle.getArea())\n"
   ]
  },
  {
   "source": [
    "## Exceptions\n",
    "Exceptions in Python are handled with try-except [exceptionname] blocks:"
   ],
   "cell_type": "markdown",
   "metadata": {}
  },
  {
   "cell_type": "code",
   "execution_count": 13,
   "metadata": {},
   "outputs": [
    {
     "output_type": "stream",
     "name": "stdout",
     "text": [
      "Oops, invalid.\nWe're done with that.\n"
     ]
    }
   ],
   "source": [
    "def some_function():\n",
    "    try:\n",
    "        # Division by zero raises an exception\n",
    "        10 / 0\n",
    "    except ZeroDivisionError:\n",
    "        print(\"Oops, invalid.\")\n",
    "    else:\n",
    "        # Exception didn't occur, we're good.\n",
    "        pass\n",
    "    finally:\n",
    "        # This is executed after the code block is run\n",
    "        # and all exceptions have been handled, even\n",
    "        # if a new exception is raised while handling.\n",
    "        print(\"We're done with that.\")\n",
    "\n",
    "some_function()"
   ]
  },
  {
   "source": [
    "## Further reading\n",
    "\n",
    "- https://docs.python.org/3/tutorial/\n",
    "- https://www.w3schools.com/python/\n",
    "- Just try **google python tutorial**\n",
    "\n"
   ],
   "cell_type": "markdown",
   "metadata": {}
  }
 ]
}