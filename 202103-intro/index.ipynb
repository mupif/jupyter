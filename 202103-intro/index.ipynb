{
 "cells": [
  {
   "cell_type": "markdown",
   "metadata": {},
   "source": [
    "<img src=\"img/ctulogo.png\" style=\"height:80px;\"> <img src=\"img/mupiflogo.png\" style=\"height:80px;\"> <img src=\"img/musicodelogo.png\" style=\"float:right;height:80px;\">\n",
    "\n",
    "# Welcome to MuPIF Tutorial\n",
    "\n",
    "## Content\n",
    "- Installing Pyhon and Mupif\n",
    "- [Basic introduction to Python and MuPIF](./firstStepsPythonMupif.ipynb)\n",
    "- [Example of thermo-mechanical workflow](./thermomechanical_workflow.ipynb)\n",
    "- [Example of indirect API implementation](./indirectAPIdemo.ipynb)\n",
    "\n",
    "&copy; CTU Team, 2021.\n"
   ]
  },
  {
   "cell_type": "code",
   "execution_count": null,
   "metadata": {},
   "outputs": [],
   "source": []
  }
 ],
 "metadata": {
  "kernelspec": {
   "display_name": "Python 3",
   "language": "python",
   "name": "python3"
  },
  "language_info": {
   "codemirror_mode": {
    "name": "ipython",
    "version": 3
   },
   "file_extension": ".py",
   "mimetype": "text/x-python",
   "name": "python",
   "nbconvert_exporter": "python",
   "pygments_lexer": "ipython3",
   "version": "3.8.5"
  }
 },
 "nbformat": 4,
 "nbformat_minor": 4
}
