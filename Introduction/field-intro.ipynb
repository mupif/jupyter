{
 "cells": [
  {
   "cell_type": "code",
   "execution_count": 1,
   "metadata": {},
   "outputs": [],
   "source": [
    "# local machine only\n",
    "import sys\n",
    "sys.path.append('/home/bp/devel/mupif.git')\n",
    "\n",
    "import matplotlib\n",
    "# make figures larger\n",
    "# matplotlib.rcParams['figure.figsize']=(20,20)\n",
    "\n",
    "# this is ugly\n",
    "# examples are not part of the mupif module now, thus are copied locally, should be re-considered\n",
    "sys.path.append('.')\n",
    "import models\n"
   ]
  },
  {
   "cell_type": "markdown",
   "metadata": {},
   "source": [
    "# Simple example to illustrate\n",
    "\n",
    "* Filed evaluateAt, vtk export, and data exchange between apps.\n",
    "* Simple mesh generator on rectangular domain\n",
    "* Field mapping, result in vtk\n"
   ]
  },
  {
   "cell_type": "code",
   "execution_count": 2,
   "metadata": {},
   "outputs": [],
   "source": [
    "import mupif as mp"
   ]
  },
  {
   "cell_type": "code",
   "execution_count": 3,
   "metadata": {},
   "outputs": [
    {
     "data": {
      "text/plain": [
       "'Stationary thermal-demo-solver, ver 1.0'"
      ]
     },
     "execution_count": 3,
     "metadata": {},
     "output_type": "execute_result"
    }
   ],
   "source": [
    "app=models.ThermalModel()\n",
    "app.getApplicationSignature()"
   ]
  },
  {
   "cell_type": "code",
   "execution_count": 4,
   "metadata": {},
   "outputs": [
    {
     "name": "stdout",
     "output_type": "stream",
     "text": [
      "# Model edges\n",
      "#     ----------3----------\n",
      "#     |                   |\n",
      "#     4                   2\n",
      "#     |                   | \n",
      "#     ----------1---------\n",
      "#\n",
      "5 1 #Size x and y\n",
      "10 5 #Number of elements in x and y\n",
      "1 N 0. #Domain edge number 1 with boundary condition (D-Dirichlet, C-convection, other-None), prescribed temperature/ambient temperature\n",
      "2 N 0.\n",
      "3 N 0.\n",
      "4 N 0.\n",
      "\n",
      "\n"
     ]
    }
   ],
   "source": [
    "# show the input file\n",
    "print(open('inputT.in').read())"
   ]
  },
  {
   "cell_type": "code",
   "execution_count": 8,
   "metadata": {},
   "outputs": [],
   "source": [
    "# load some data\n",
    "app.initialize(file='inputT.in')\n",
    "bc = mp.ConstantProperty(propID=mp.PropertyID.PID_Temperature, valueType=mp.ValueType.Scalar, value=(20,), unit=mp.U['K'])\n",
    "dbc = mp.ConstantProperty(propID=mp.PropertyID.PID_Temperature, valueType=mp.ValueType.Scalar, value=(0,), unit=mp.U['K'])\n",
    "\n",
    "app.set(bc, 'Cauchy top')\n",
    "app.set(dbc,'Dirichlet bottom')\n",
    "app.set(dbc,'Dirichlet left')\n",
    "app.set(dbc,'Dirichlet right')\n",
    "\n",
    "\n",
    "# solve something (whatever)\n",
    "app.solveStep(mp.TimeStep(time=0,dt=.1,targetTime=1.,unit=mp.U.s))"
   ]
  },
  {
   "cell_type": "code",
   "execution_count": 9,
   "metadata": {},
   "outputs": [
    {
     "name": "stdout",
     "output_type": "stream",
     "text": [
      "0.0 5.0 0.0 1.0\n"
     ]
    },
    {
     "data": {
      "image/png": "[encoded data removed]",
      "text/plain": [
       "<Figure size 432x288 with 2 Axes>"
      ]
     },
     "metadata": {
      "needs_background": "light"
     },
     "output_type": "display_data"
    }
   ],
   "source": [
    "# show the field\n",
    "f=app.getField(fieldID=mp.FieldID.FID_Temperature,time=1.*mp.Q.s)\n",
    "f.plot2D()"
   ]
  },
  {
   "cell_type": "code",
   "execution_count": null,
   "metadata": {},
   "outputs": [],
   "source": []
  }
 ],
 "metadata": {
  "kernelspec": {
   "display_name": "Python 3",
   "language": "python",
   "name": "python3"
  },
  "language_info": {
   "codemirror_mode": {
    "name": "ipython",
    "version": 3
   },
   "file_extension": ".py",
   "mimetype": "text/x-python",
   "name": "python",
   "nbconvert_exporter": "python",
   "pygments_lexer": "ipython3",
   "version": "3.8.5"
  }
 },
 "nbformat": 4,
 "nbformat_minor": 4
}
