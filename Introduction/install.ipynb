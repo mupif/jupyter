{
 "cells": [
  {
   "cell_type": "markdown",
   "metadata": {
    "pycharm": {
     "name": "#%% md\n"
    }
   },
   "source": [
    "<img src=\"img/mupiflogo.png\" style=\"float:right;height:80px;\">\n",
    "\n",
    "# MuPIF Installation\n",
    "\n",
    "### Requirements\n",
    "\n",
    "- Python (>=3.8)\n",
    "- pip - package installer for Python\n",
    "- git - version control system\n"
   ]
  },
  {
   "cell_type": "markdown",
   "metadata": {},
   "source": [
    "\n",
    "## Installation on Ubuntu\n",
    "\n",
    "- Install Python, pip and git:\n",
    "\n",
    "  $ `sudo apt-get install python3.8 python3-pip git`\n",
    "\n",
    "-  Install mupif with all dependencies using pip:\n",
    "\n",
    "   $ `pip3 install git+https://github.com/mupif/mupif.git@dev`\n",
    "\n",
    "- Optionally get full project with examples using git:\n",
    "\n",
    "  $ `git clone --branch dev https://github.com/mupif/mupif.git`\n"
   ]
  },
  {
   "cell_type": "markdown",
   "metadata": {},
   "source": [
    "\n",
    "## Installation on Windows \n",
    "\n",
    "- Download and install Python from https://www.python.org/ftp/python/3.9.2/python-3.9.2-amd64.exe\n",
    "\n",
    "- Download https://bootstrap.pypa.io/get-pip.py and run it with:\n",
    "\n",
    "  $ `python get-pip.py`\n",
    "\n",
    "-  Add directory of pip3.exe to the \"Path\" system variable. The directory should be something like \"C:\\Users\\Username\\AppData\\Roaming\\Python\\Python39\\Scripts\". Editing of the Path variable is described, for example [here](https://www.java.com/en/download/help/path.html)\n",
    "\n",
    "\n",
    "- Download and install git from https://gitforwindows.org/\n",
    "\n",
    "- Install mupif with all dependencies using pip:\n",
    "\n",
    "  $ `pip3 install git+https://github.com/mupif/mupif.git@dev`\n",
    "\n",
    "- Optionally get full project with examples using git:\n",
    "\n",
    "  $ `git clone --branch dev https://github.com/mupif/mupif.git`\n",
    "\n",
    "\n"
   ]
  }
 ],
 "metadata": {
  "kernelspec": {
   "display_name": "Python 3",
   "language": "python",
   "name": "python3"
  },
  "language_info": {
   "codemirror_mode": {
    "name": "ipython",
    "version": 3
   },
   "file_extension": ".py",
   "mimetype": "text/x-python",
   "name": "python",
   "nbconvert_exporter": "python",
   "pygments_lexer": "ipython3",
   "version": "3.8.5"
  },
  "pycharm": {
   "stem_cell": {
    "cell_type": "raw",
    "metadata": {
     "collapsed": false
    },
    "source": []
   }
  }
 },
 "nbformat": 4,
 "nbformat_minor": 4
}
